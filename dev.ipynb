{
 "cells": [
  {
   "cell_type": "code",
   "execution_count": 8,
   "id": "8768e726-211a-432d-ad39-3b8c1a5ae385",
   "metadata": {},
   "outputs": [],
   "source": [
    "import sqlite3\n",
    "import pandas as pd"
   ]
  },
  {
   "cell_type": "markdown",
   "id": "beac0af8-bdb2-4920-8446-116fe7cf1ef6",
   "metadata": {},
   "source": [
    "## ensure that dumb filtering results are working.\n",
    "* Try joining the results from filter w/o includeAnnot and with and then\n",
    "* with my hacky way"
   ]
  },
  {
   "cell_type": "code",
   "execution_count": 23,
   "id": "1689381f-2f77-46d3-9dc8-ed40c02c9dd4",
   "metadata": {},
   "outputs": [
    {
     "name": "stdout",
     "output_type": "stream",
     "text": [
      "97852\n",
      "20549\n"
     ]
    }
   ],
   "source": [
    "pass_list_annot = 'test_pass_list.csv'\n",
    "pass_list = 'test_pass_list_2.csv'\n",
    "\n",
    "annot_df = pd.read_csv(pass_list_annot, header=None, names=['gid', 'tid'])\n",
    "df = pd.read_csv(pass_list, header=None, names=['gid', 'tid'])\n",
    "print(len(annot_df))\n",
    "print(len(df))"
   ]
  },
  {
   "cell_type": "code",
   "execution_count": 32,
   "id": "c26b6c94-0c28-4fc9-8463-4bd25e556624",
   "metadata": {},
   "outputs": [],
   "source": [
    "db = '/Users/fairliereese/mortazavi_lab/data/rnawg/lr_bulk/talon/human.db'\n",
    "annot_name = 'gencode_v29'"
   ]
  },
  {
   "cell_type": "code",
   "execution_count": 33,
   "id": "8edef21b-1294-4c8c-bea9-e89f5c1ae79d",
   "metadata": {},
   "outputs": [],
   "source": [
    "with sqlite3.connect(db) as conn:\n",
    "    query = \"\"\"SELECT DISTINCT gene_ID, transcript_ID FROM observed\n",
    "                       LEFT JOIN transcript_annotations AS ta\n",
    "                           ON ta.ID = observed.transcript_ID\n",
    "                       WHERE (ta.attribute = 'transcript_status'\n",
    "                              AND ta.value = 'KNOWN'\n",
    "                              AND ta.annot_name = '%s')\"\"\" % (annot_name)\n",
    "    annot = pd.read_sql_query(query, conn)"
   ]
  },
  {
   "cell_type": "code",
   "execution_count": 35,
   "id": "b07d1309-7067-4a82-abd0-8f2cc415d4b6",
   "metadata": {},
   "outputs": [
    {
     "data": {
      "text/plain": [
       "96699"
      ]
     },
     "execution_count": 35,
     "metadata": {},
     "output_type": "execute_result"
    }
   ],
   "source": [
    "len(annot)"
   ]
  },
  {
   "cell_type": "code",
   "execution_count": 37,
   "id": "02ba27dc-e9ea-4aa5-81d8-1a8247aa99a6",
   "metadata": {},
   "outputs": [
    {
     "data": {
      "text/html": [
       "<div>\n",
       "<style scoped>\n",
       "    .dataframe tbody tr th:only-of-type {\n",
       "        vertical-align: middle;\n",
       "    }\n",
       "\n",
       "    .dataframe tbody tr th {\n",
       "        vertical-align: top;\n",
       "    }\n",
       "\n",
       "    .dataframe thead th {\n",
       "        text-align: right;\n",
       "    }\n",
       "</style>\n",
       "<table border=\"1\" class=\"dataframe\">\n",
       "  <thead>\n",
       "    <tr style=\"text-align: right;\">\n",
       "      <th></th>\n",
       "      <th>gene_ID</th>\n",
       "      <th>transcript_ID</th>\n",
       "    </tr>\n",
       "  </thead>\n",
       "  <tbody>\n",
       "    <tr>\n",
       "      <th>0</th>\n",
       "      <td>6</td>\n",
       "      <td>8</td>\n",
       "    </tr>\n",
       "    <tr>\n",
       "      <th>1</th>\n",
       "      <td>6</td>\n",
       "      <td>9</td>\n",
       "    </tr>\n",
       "    <tr>\n",
       "      <th>2</th>\n",
       "      <td>13</td>\n",
       "      <td>22</td>\n",
       "    </tr>\n",
       "    <tr>\n",
       "      <th>3</th>\n",
       "      <td>38109</td>\n",
       "      <td>132568</td>\n",
       "    </tr>\n",
       "    <tr>\n",
       "      <th>4</th>\n",
       "      <td>20</td>\n",
       "      <td>32</td>\n",
       "    </tr>\n",
       "  </tbody>\n",
       "</table>\n",
       "</div>"
      ],
      "text/plain": [
       "   gene_ID  transcript_ID\n",
       "0        6              8\n",
       "1        6              9\n",
       "2       13             22\n",
       "3    38109         132568\n",
       "4       20             32"
      ]
     },
     "execution_count": 37,
     "metadata": {},
     "output_type": "execute_result"
    }
   ],
   "source": [
    "annot.head()"
   ]
  },
  {
   "cell_type": "code",
   "execution_count": 39,
   "id": "5973db6c-1d73-44c3-a353-0157d6652f24",
   "metadata": {},
   "outputs": [
    {
     "data": {
      "text/plain": [
       "96699"
      ]
     },
     "execution_count": 39,
     "metadata": {},
     "output_type": "execute_result"
    }
   ],
   "source": [
    "len(annot.merge(annot_df, how='inner',\n",
    "                left_on=['gene_ID', 'transcript_ID'],\n",
    "                right_on=['gid', 'tid']))"
   ]
  },
  {
   "cell_type": "markdown",
   "id": "50268564-cb18-4708-a3d0-79e61cd8472f",
   "metadata": {},
   "source": [
    "## db to read annot"
   ]
  },
  {
   "cell_type": "code",
   "execution_count": 20,
   "id": "61db1312-d237-4c5b-ab52-75357e037597",
   "metadata": {},
   "outputs": [],
   "source": [
    "def get_gene_exp(df,\n",
    "                 filter_novel=True,\n",
    "                 filt_bcs=None):\n",
    "    \"\"\"\n",
    "    Parameters:\n",
    "        df (pandas DataFrame): talon ab or read annot\n",
    "        filter_novel (bool): whether or not to filter out novel genes\n",
    "        filt_bcs (str): path to *_filt_bcs.txt file to filter on from\n",
    "            read_annot file\n",
    "    \"\"\"\n",
    "    # read annot\n",
    "    if 'dataset' in df.columns:\n",
    "\n",
    "        if filter_novel:\n",
    "            df = df.loc[df.gene_novelty == 'Known']\n",
    "\n",
    "        if filt_bcs:\n",
    "            bcs = pd.read_csv(filt_bcs, sep='\\t', header=None)\n",
    "            bcs.columns = ['bc']\n",
    "            bcs = bcs.bc.tolist()\n",
    "            df = df.loc[df.dataset.isin(bcs)]\n",
    "\n",
    "        # limit to relevant columns\n",
    "        cols = ['annot_gene_id', 'annot_gene_name', 'dataset', 'read_name']\n",
    "        df = df[cols]\n",
    "\n",
    "        # groupby gene name, id, and dataset and count occurrences\n",
    "        gb_cols = ['annot_gene_id', 'annot_gene_name', 'dataset']\n",
    "        df = df.groupby(gb_cols).count()\n",
    "        df.rename({'read_name': 'counts'}, axis=1, inplace=True)\n",
    "\n",
    "        df.reset_index(inplace=True)\n",
    "        df = df.pivot(index=['annot_gene_id', 'annot_gene_name'],\n",
    "                 columns=['dataset'],\n",
    "                 values=['counts'])\n",
    "        df.columns = df.columns.get_level_values(1)\n",
    "        df.columns.name = ''\n",
    "        df.reset_index(inplace=True)\n",
    "        df.fillna(0, inplace=True)\n",
    "        df.reset_index(inplace=True)\n",
    "        df.drop('index', inplace=True, axis=1)\n",
    "        gene_df = df"
   ]
  },
  {
   "cell_type": "code",
   "execution_count": 21,
   "id": "b9067510-4d1d-4e40-9ca9-6e03570c856c",
   "metadata": {},
   "outputs": [],
   "source": [
    "def make_adata(df,\n",
    "               samp_df,\n",
    "               sr_df,\n",
    "               verbose=False,\n",
    "               how='gene'):\n",
    "\n",
    "    \"\"\"\n",
    "    Make an AnnData from long read data.\n",
    "\n",
    "    Parameters:\n",
    "        df (pandas DataFrame): DataFrame from get_gene_exp function\n",
    "        samp_df (pandas DataFrame): DataFrame from get_sample_metadata function\n",
    "        sr_df (pandas DataFrame): DataFrame from get_illumina_metadata function\n",
    "        verbose (bool): Whether or not to display output messages\n",
    "        how (str): Choose from 'gene' or 'transcript'\n",
    "    \"\"\"\n",
    "\n",
    "    if how == 'gene':\n",
    "        # print(df.head())\n",
    "        var = df[['annot_gene_id', 'annot_gene_name']]\n",
    "        df.drop(['annot_gene_name'], axis=1, inplace=True)\n",
    "        df.set_index('annot_gene_id', inplace=True)\n",
    "    elif how == 'transcript':\n",
    "        var = df[['annot_transcript_id', 'annot_transcript_name', \\\n",
    "                'annot_gene_id', 'annot_gene_name', 'transcript_novelty']]\n",
    "        df.drop(['annot_transcript_name', 'annot_gene_id', \\\n",
    "                 'annot_gene_name', 'transcript_novelty'], axis=1, inplace=True)\n",
    "        df.set_index('annot_transcript_id', inplace=True)\n",
    "\n",
    "    df = df.transpose()\n",
    "    df.index.name = 'bc'\n",
    "    X = scipy.sparse.csr_matrix(df.values)\n",
    "    df.reset_index(inplace=True)\n",
    "    obs = df.bc.to_frame()\n",
    "    obs = df.bc.to_frame()\n",
    "    obs['bc3_long'] = obs['bc'].str.slice(0,8)\n",
    "    obs['bc2_long'] = obs['bc'].str.slice(8,16)\n",
    "    temp = obs['bc'].values[0]\n",
    "    if '-' in temp:\n",
    "        obs['bc1_long'] = obs['bc'].str.slice(16,24)\n",
    "        obs['bc_index'] = obs.bc\n",
    "        obs['bc_back'] = obs.bc.str.split('-', expand=True)[0]\n",
    "        obs['experiment'] = obs.bc.str.split('-', expand=True)[1]\n",
    "        obs['library'] = obs.experiment.str.split('_', expand=True)[1]\n",
    "\n",
    "        # fix library names for those with issues\n",
    "        if '2ka' in obs.library.unique().tolist():\n",
    "            obs.loc[obs.library == '2ka', 'library'] = 'a'\n",
    "\n",
    "        obs['bc'] = obs.bc_back\n",
    "        obs.drop('bc_back', axis=1, inplace=True)\n",
    "\n",
    "    else:\n",
    "        obs['bc1_long'] = obs['bc'].str.slice(16,-1)\n",
    "        obs['bc_index'] = obs['bc']\n",
    "\n",
    "    if verbose:\n",
    "        print('Found {} unique bc3s'.format(len(obs.bc3_long.unique())))\n",
    "        print('Found {} unique bc2s'.format(len(obs.bc2_long.unique())))\n",
    "        print('Found {} unique bc1s'.format(len(obs.bc1_long.unique())))\n",
    "\n",
    "    # merge with information from illumina runs\n",
    "    # pdb.set_trace()\n",
    "\n",
    "    if sr_df is not None:\n",
    "        # print(len(obs.index))\n",
    "        obs = obs.merge(sr_df, how='left', on=['bc', 'library'])\n",
    "        # print(len(obs.index))\n",
    "\n",
    "    # merge with sample information\n",
    "    if samp_df is not None:\n",
    "        # print()\n",
    "        # print(len(obs.index))\n",
    "        obs = obs.merge(samp_df, how='left', left_on=['bc1_long', 'library'], right_on=['bc1_dt', 'library'])\n",
    "        # print(len(obs.index))\n",
    "\n",
    "    # construct the actual anndata\n",
    "    adata = anndata.AnnData(X=X, obs=obs, var=var)\n",
    "    adata.obs.set_index('bc_index', inplace=True)\n",
    "\n",
    "    if how == 'gene':\n",
    "        adata.var.set_index('annot_gene_id', inplace=True)\n",
    "    elif how == 'transcript':\n",
    "        adata.var.set_index('annot_transcript_id', inplace=True)\n",
    "    adata.layers['raw'] = adata.X.copy()\n",
    "\n",
    "    # annotate the group of mitochondrial genes as 'mt'\n",
    "    adata.var['mt'] = adata.var.annot_gene_name.str.startswith('mt-')\n",
    "    sc.pp.calculate_qc_metrics(adata, qc_vars=['mt'], percent_top=None, log1p=False, inplace=True)\n",
    "\n",
    "    # format gene names\n",
    "    if how == 'gene':\n",
    "        adata.var.reset_index(inplace=True)\n",
    "        adata.var.annot_gene_name = adata.var.annot_gene_name.astype(str)\n",
    "        adata.var.index = adata.var.annot_gene_name\n",
    "        adata.var_names_make_unique()\n",
    "        adata.var.drop('annot_gene_name', axis=1, inplace=True)\n",
    "    elif how == 'transcript':\n",
    "        adata.var.reset_index(inplace=True)\n",
    "        adata.var.annot_transcript_name = adata.var.annot_transcript_name.astype(str)\n",
    "        adata.var.index = adata.var.annot_transcript_name\n",
    "        adata.var_names_make_unique()\n",
    "        adata.var.drop('annot_transcript_name', axis=1, inplace=True)\n",
    "\n",
    "    return adata"
   ]
  },
  {
   "cell_type": "code",
   "execution_count": 28,
   "id": "bf383e9d-fcfb-451f-8db6-49d114a0ae55",
   "metadata": {},
   "outputs": [
    {
     "ename": "SyntaxError",
     "evalue": "invalid syntax (<ipython-input-28-fb33b9525cdb>, line 2)",
     "output_type": "error",
     "traceback": [
      "\u001b[0;36m  File \u001b[0;32m\"<ipython-input-28-fb33b9525cdb>\"\u001b[0;36m, line \u001b[0;32m2\u001b[0m\n\u001b[0;31m    from src/talon/post/ import post_utils as putils\u001b[0m\n\u001b[0m            ^\u001b[0m\n\u001b[0;31mSyntaxError\u001b[0m\u001b[0;31m:\u001b[0m invalid syntax\n"
     ]
    }
   ],
   "source": [
    "import sqlite3\n",
    "from src/talon/post/ import post_utils as putils\n"
   ]
  },
  {
   "cell_type": "code",
   "execution_count": 22,
   "id": "59661c74-b4ff-4d06-88a8-ed67a4311d41",
   "metadata": {},
   "outputs": [],
   "source": [
    "pass_list = '/Users/fairliereese/Documents/programming/mortazavi_lab/data/mousewg/hippocampus/lr_splitseq/talon/test_pass_list.csv'\n",
    "db = '/Users/fairliereese/Documents/programming/mortazavi_lab/data/mousewg/hippocampus/lr_splitseq/talon/hippocampus.db'\n",
    "annot = 'gencode_vM21'"
   ]
  },
  {
   "cell_type": "code",
   "execution_count": null,
   "id": "dd48b4aa-db15-4cd9-9474-b0f851eda276",
   "metadata": {},
   "outputs": [],
   "source": [
    "whitelist = putils.handle_filtering(db, \n",
    "                                    annot, \n",
    "                                    False, \n",
    "                                    pass_list, \n",
    "                                    None)"
   ]
  }
 ],
 "metadata": {
  "kernelspec": {
   "display_name": "Python 3",
   "language": "python",
   "name": "python3"
  },
  "language_info": {
   "codemirror_mode": {
    "name": "ipython",
    "version": 3
   },
   "file_extension": ".py",
   "mimetype": "text/x-python",
   "name": "python",
   "nbconvert_exporter": "python",
   "pygments_lexer": "ipython3",
   "version": "3.7.4"
  }
 },
 "nbformat": 4,
 "nbformat_minor": 5
}
